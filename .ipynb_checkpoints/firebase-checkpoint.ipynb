{
 "cells": [
  {
   "cell_type": "code",
   "execution_count": 20,
   "id": "d8e28659",
   "metadata": {},
   "outputs": [],
   "source": [
    "import firebase_admin\n",
    "from firebase_admin import credentials\n",
    "from firebase_admin import db\n",
    "from firebase_admin import firestore\n",
    "\n",
    "service_account='firebase-adminsdk-w5j14@test1-29c07.iam.gserviceaccount.com'\n",
    "project_id='test1-29c07'\n",
    "\n",
    "cred = credentials.Certificate(\"/Users/ksjdo/Downloads/test1-29c07-firebase-adminsdk-w5j14-3bfda38ae7.json\")\n",
    "default_app = firebase_admin.initialize_app(cred)\n",
    "\n",
    "db=firestore.client()\n"
   ]
  },
  {
   "cell_type": "code",
   "execution_count": 21,
   "id": "46e41a21",
   "metadata": {},
   "outputs": [
    {
     "data": {
      "text/plain": [
       "update_time {\n",
       "  seconds: 1638427157\n",
       "  nanos: 447975000\n",
       "}"
      ]
     },
     "execution_count": 21,
     "metadata": {},
     "output_type": "execute_result"
    }
   ],
   "source": [
    "doc_ref = db.collection(u'users').document(u'alovelace')\n",
    "doc_ref.set({\n",
    "    u'first': u'Ada',\n",
    "    u'last': u'Lovelace',\n",
    "    u'born': 1815\n",
    "})"
   ]
  },
  {
   "cell_type": "code",
   "execution_count": 3,
   "id": "e26324c6",
   "metadata": {},
   "outputs": [
    {
     "name": "stdout",
     "output_type": "stream",
     "text": [
      "Input ID : ········\n",
      "Input PWD : ········\n",
      "Input HashTag : mlbkorea\n"
     ]
    }
   ],
   "source": []
  }
 ],
 "metadata": {
  "kernelspec": {
   "display_name": "Python 3",
   "language": "python",
   "name": "python3"
  },
  "language_info": {
   "codemirror_mode": {
    "name": "ipython",
    "version": 3
   },
   "file_extension": ".py",
   "mimetype": "text/x-python",
   "name": "python",
   "nbconvert_exporter": "python",
   "pygments_lexer": "ipython3",
   "version": "3.8.8"
  }
 },
 "nbformat": 4,
 "nbformat_minor": 5
}
